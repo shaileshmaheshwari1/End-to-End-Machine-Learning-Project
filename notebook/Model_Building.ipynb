{
 "cells": [
  {
   "cell_type": "markdown",
   "id": "cbd9a33b",
   "metadata": {},
   "source": [
    "### Import Data And Require Packages "
   ]
  },
  {
   "cell_type": "code",
   "execution_count": 4,
   "id": "28e54664",
   "metadata": {},
   "outputs": [],
   "source": [
    "import numpy as np\n",
    "import pandas as pd\n",
    "import matplotlib.pyplot as plt\n",
    "import seaborn as sns\n",
    "from sklearn.linear_model import LinearRegression,Ridge,Lasso\n",
    "from sklearn.ensemble import RandomForestRegressor , AdaBoostRegressor\n",
    "from sklearn.tree import DecisionTreeRegressor\n",
    "from sklearn.neighbors import KNeighborsRegressor\n",
    "from sklearn.metrics import mean_absolute_error,mean_squared_error,r2_score\n",
    "from sklearn.svm import SVR\n",
    "from catboost import CatBoostRegressor\n",
    "from xgboost import XGBRFRegressor\n",
    "import warnings"
   ]
  },
  {
   "cell_type": "markdown",
   "id": "6915828e",
   "metadata": {},
   "source": []
  },
  {
   "cell_type": "code",
   "execution_count": 5,
   "id": "3bf4a83c",
   "metadata": {},
   "outputs": [
    {
     "data": {
      "text/html": [
       "<div>\n",
       "<style scoped>\n",
       "    .dataframe tbody tr th:only-of-type {\n",
       "        vertical-align: middle;\n",
       "    }\n",
       "\n",
       "    .dataframe tbody tr th {\n",
       "        vertical-align: top;\n",
       "    }\n",
       "\n",
       "    .dataframe thead th {\n",
       "        text-align: right;\n",
       "    }\n",
       "</style>\n",
       "<table border=\"1\" class=\"dataframe\">\n",
       "  <thead>\n",
       "    <tr style=\"text-align: right;\">\n",
       "      <th></th>\n",
       "      <th>gender</th>\n",
       "      <th>race_ethnicity</th>\n",
       "      <th>parental_level_of_education</th>\n",
       "      <th>lunch</th>\n",
       "      <th>test_preparation_course</th>\n",
       "      <th>math_score</th>\n",
       "      <th>reading_score</th>\n",
       "      <th>writing_score</th>\n",
       "    </tr>\n",
       "  </thead>\n",
       "  <tbody>\n",
       "    <tr>\n",
       "      <th>0</th>\n",
       "      <td>female</td>\n",
       "      <td>group B</td>\n",
       "      <td>bachelor's degree</td>\n",
       "      <td>standard</td>\n",
       "      <td>none</td>\n",
       "      <td>72</td>\n",
       "      <td>72</td>\n",
       "      <td>74</td>\n",
       "    </tr>\n",
       "    <tr>\n",
       "      <th>1</th>\n",
       "      <td>female</td>\n",
       "      <td>group C</td>\n",
       "      <td>some college</td>\n",
       "      <td>standard</td>\n",
       "      <td>completed</td>\n",
       "      <td>69</td>\n",
       "      <td>90</td>\n",
       "      <td>88</td>\n",
       "    </tr>\n",
       "    <tr>\n",
       "      <th>2</th>\n",
       "      <td>female</td>\n",
       "      <td>group B</td>\n",
       "      <td>master's degree</td>\n",
       "      <td>standard</td>\n",
       "      <td>none</td>\n",
       "      <td>90</td>\n",
       "      <td>95</td>\n",
       "      <td>93</td>\n",
       "    </tr>\n",
       "    <tr>\n",
       "      <th>3</th>\n",
       "      <td>male</td>\n",
       "      <td>group A</td>\n",
       "      <td>associate's degree</td>\n",
       "      <td>free/reduced</td>\n",
       "      <td>none</td>\n",
       "      <td>47</td>\n",
       "      <td>57</td>\n",
       "      <td>44</td>\n",
       "    </tr>\n",
       "    <tr>\n",
       "      <th>4</th>\n",
       "      <td>male</td>\n",
       "      <td>group C</td>\n",
       "      <td>some college</td>\n",
       "      <td>standard</td>\n",
       "      <td>none</td>\n",
       "      <td>76</td>\n",
       "      <td>78</td>\n",
       "      <td>75</td>\n",
       "    </tr>\n",
       "  </tbody>\n",
       "</table>\n",
       "</div>"
      ],
      "text/plain": [
       "   gender race_ethnicity parental_level_of_education         lunch  \\\n",
       "0  female        group B           bachelor's degree      standard   \n",
       "1  female        group C                some college      standard   \n",
       "2  female        group B             master's degree      standard   \n",
       "3    male        group A          associate's degree  free/reduced   \n",
       "4    male        group C                some college      standard   \n",
       "\n",
       "  test_preparation_course  math_score  reading_score  writing_score  \n",
       "0                    none          72             72             74  \n",
       "1               completed          69             90             88  \n",
       "2                    none          90             95             93  \n",
       "3                    none          47             57             44  \n",
       "4                    none          76             78             75  "
      ]
     },
     "execution_count": 5,
     "metadata": {},
     "output_type": "execute_result"
    }
   ],
   "source": [
    "df = pd.read_csv('data/stud.csv')\n",
    "df.head()"
   ]
  },
  {
   "cell_type": "markdown",
   "id": "875c03bb",
   "metadata": {},
   "source": [
    "#### preparing x and y variable "
   ]
  },
  {
   "cell_type": "code",
   "execution_count": 6,
   "id": "a65c1a7e",
   "metadata": {},
   "outputs": [],
   "source": [
    "x = df.drop(['math_score'],axis=1)\n",
    "y = df['math_score']"
   ]
  },
  {
   "cell_type": "markdown",
   "id": "746acfed",
   "metadata": {},
   "source": [
    "#### create column transformer "
   ]
  },
  {
   "cell_type": "code",
   "execution_count": 7,
   "id": "d2347da5",
   "metadata": {},
   "outputs": [],
   "source": [
    "num = x.select_dtypes('number').columns\n",
    "cat = x.select_dtypes('object').columns\n",
    "\n",
    "from sklearn.preprocessing import OneHotEncoder,StandardScaler\n",
    "from sklearn.compose import ColumnTransformer\n",
    "\n",
    "oh = OneHotEncoder()\n",
    "sc = StandardScaler()\n",
    "\n",
    "ct = ColumnTransformer(\n",
    "    [\n",
    "        ('OneHotEncoder',oh,cat),\n",
    "        ('StandardScaler',sc,num)\n",
    "    ]\n",
    "\n",
    ")"
   ]
  },
  {
   "cell_type": "code",
   "execution_count": 8,
   "id": "ff19af21",
   "metadata": {},
   "outputs": [],
   "source": [
    "x = ct.fit_transform(x)"
   ]
  },
  {
   "cell_type": "code",
   "execution_count": 9,
   "id": "1b89d897",
   "metadata": {},
   "outputs": [
    {
     "data": {
      "text/plain": [
       "(1000, 19)"
      ]
     },
     "execution_count": 9,
     "metadata": {},
     "output_type": "execute_result"
    }
   ],
   "source": [
    "x.shape"
   ]
  },
  {
   "cell_type": "markdown",
   "id": "9071dfb5",
   "metadata": {},
   "source": [
    "### performing train test split "
   ]
  },
  {
   "cell_type": "code",
   "execution_count": 10,
   "id": "9767a1d3",
   "metadata": {},
   "outputs": [
    {
     "data": {
      "text/plain": [
       "((800, 19), (200, 19))"
      ]
     },
     "execution_count": 10,
     "metadata": {},
     "output_type": "execute_result"
    }
   ],
   "source": [
    "from sklearn.model_selection import train_test_split\n",
    "x_train,x_test,y_train,y_test = train_test_split(x,y,test_size=0.2,random_state=42)\n",
    "x_train.shape , x_test.shape"
   ]
  },
  {
   "cell_type": "markdown",
   "id": "f9a05921",
   "metadata": {},
   "source": [
    "### Creating an Evaluate Function to give all metrics model Training "
   ]
  },
  {
   "cell_type": "code",
   "execution_count": 11,
   "id": "6965eb68",
   "metadata": {},
   "outputs": [],
   "source": [
    "def evaluate_model(true,predicted):\n",
    "    mae = mean_absolute_error(true , predicted)\n",
    "    rmse = np.sqrt(mean_squared_error(true , predicted))\n",
    "    r2score = r2_score(true , predicted)\n",
    "    return mae,rmse,r2score"
   ]
  },
  {
   "cell_type": "code",
   "execution_count": 12,
   "id": "a838f649",
   "metadata": {},
   "outputs": [
    {
     "name": "stdout",
     "output_type": "stream",
     "text": [
      "Linear_Regression\n",
      "Model performance on Training set\n",
      "-- RMSE:  5.323050852720513\n",
      "-- MAE:  4.266711846071957\n",
      "-- R2 Score:  0.8743172040139593\n",
      "--------------------------------------------------\n",
      "Model performance on Testin set\n",
      "-- RMSE:  5.393993869732845\n",
      "-- MAE:  4.214763142474852\n",
      "-- R2 Score:  0.8804332983749564\n",
      "==================================================\n",
      "\n",
      "\n",
      "Lasso\n",
      "Model performance on Training set\n",
      "-- RMSE:  6.593815587795565\n",
      "-- MAE:  5.206302661246526\n",
      "-- R2 Score:  0.8071462015863458\n",
      "--------------------------------------------------\n",
      "Model performance on Testin set\n",
      "-- RMSE:  6.51969453566742\n",
      "-- MAE:  5.157881810347763\n",
      "-- R2 Score:  0.8253197323627852\n",
      "==================================================\n",
      "\n",
      "\n",
      "Ridge\n",
      "Model performance on Training set\n",
      "-- RMSE:  5.323324922741654\n",
      "-- MAE:  4.2649878237259795\n",
      "-- R2 Score:  0.8743042615212909\n",
      "--------------------------------------------------\n",
      "Model performance on Testin set\n",
      "-- RMSE:  5.390387016935636\n",
      "-- MAE:  4.211100688014259\n",
      "-- R2 Score:  0.880593148502874\n",
      "==================================================\n",
      "\n",
      "\n",
      "K-Neighbors\n",
      "Model performance on Training set\n",
      "-- RMSE:  5.709229370063879\n",
      "-- MAE:  4.518\n",
      "-- R2 Score:  0.8554195454233795\n",
      "--------------------------------------------------\n",
      "Model performance on Testin set\n",
      "-- RMSE:  7.2516205085484176\n",
      "-- MAE:  5.615999999999999\n",
      "-- R2 Score:  0.7838976503502941\n",
      "==================================================\n",
      "\n",
      "\n",
      "DecisionTree\n",
      "Model performance on Training set\n",
      "-- RMSE:  0.2795084971874737\n",
      "-- MAE:  0.01875\n",
      "-- R2 Score:  0.9996534669718089\n",
      "--------------------------------------------------\n",
      "Model performance on Testin set\n",
      "-- RMSE:  8.058846071243698\n",
      "-- MAE:  6.445\n",
      "-- R2 Score:  0.7331082969231326\n",
      "==================================================\n",
      "\n",
      "\n"
     ]
    },
    {
     "name": "stdout",
     "output_type": "stream",
     "text": [
      "RandomForest\n",
      "Model performance on Training set\n",
      "-- RMSE:  2.285753952435911\n",
      "-- MAE:  1.8236635416666667\n",
      "-- R2 Score:  0.9768253298130598\n",
      "--------------------------------------------------\n",
      "Model performance on Testin set\n",
      "-- RMSE:  6.059984842814286\n",
      "-- MAE:  4.6797625\n",
      "-- R2 Score:  0.849084993181763\n",
      "==================================================\n",
      "\n",
      "\n",
      "XGRegressor\n",
      "Model performance on Training set\n",
      "-- RMSE:  4.716954377658802\n",
      "-- MAE:  3.79393460392952\n",
      "-- R2 Score:  0.901308907888719\n",
      "--------------------------------------------------\n",
      "Model performance on Testin set\n",
      "-- RMSE:  5.781741484023623\n",
      "-- MAE:  4.482239389419556\n",
      "-- R2 Score:  0.8626253210012078\n",
      "==================================================\n",
      "\n",
      "\n",
      "catboosting\n",
      "Model performance on Training set\n",
      "-- RMSE:  3.042664195326799\n",
      "-- MAE:  2.405393926779502\n",
      "-- R2 Score:  0.9589358676277713\n",
      "--------------------------------------------------\n",
      "Model performance on Testin set\n",
      "-- RMSE:  6.008631956907363\n",
      "-- MAE:  4.612531714976557\n",
      "-- R2 Score:  0.8516318920747058\n",
      "==================================================\n",
      "\n",
      "\n",
      "AdaBoost\n",
      "Model performance on Training set\n",
      "-- RMSE:  5.770326104345904\n",
      "-- MAE:  4.7403292171516105\n",
      "-- R2 Score:  0.8523085621822969\n",
      "--------------------------------------------------\n",
      "Model performance on Testin set\n",
      "-- RMSE:  5.947470265960334\n",
      "-- MAE:  4.58466691126772\n",
      "-- R2 Score:  0.854636988800443\n",
      "==================================================\n",
      "\n",
      "\n"
     ]
    }
   ],
   "source": [
    "models = {\n",
    "    'Linear_Regression':LinearRegression(),\n",
    "    'Lasso':Lasso(),\n",
    "    'Ridge':Ridge(),\n",
    "    'K-Neighbors':KNeighborsRegressor(),\n",
    "    'DecisionTree':DecisionTreeRegressor(),\n",
    "    'RandomForest':RandomForestRegressor(),\n",
    "    'XGRegressor':XGBRFRegressor(),\n",
    "    'catboosting':CatBoostRegressor(verbose=False),\n",
    "    'AdaBoost':AdaBoostRegressor()\n",
    "}\n",
    "\n",
    "model_list = []\n",
    "r2_list = []\n",
    "\n",
    "for i in range(len(list(models))):\n",
    "    model = list(models.values())[i]\n",
    "    model.fit(x_train,y_train)\n",
    "    y_train_pred = model.predict(x_train)\n",
    "    y_test_pred = model.predict(x_test)\n",
    "    \n",
    "    model_train_mae , model_train_rmse, model_train_r2 = evaluate_model(y_train,y_train_pred)\n",
    "    model_test_mae , model_test_rmse , model_test_r2 = evaluate_model(y_test,y_test_pred)\n",
    "    \n",
    "    print(list(models.keys())[i])\n",
    "    model_list.append(list(models.keys())[i])\n",
    "    \n",
    "    print('Model performance on Training set')\n",
    "    print(\"-- RMSE: \",model_train_rmse)\n",
    "    print(\"-- MAE: \",model_train_mae)\n",
    "    print(\"-- R2 Score: \",model_train_r2)\n",
    "    \n",
    "    print(50*'-')\n",
    "    \n",
    "    print('Model performance on Testin set')\n",
    "    print(\"-- RMSE: \",model_test_rmse)\n",
    "    print(\"-- MAE: \",model_test_mae)\n",
    "    print(\"-- R2 Score: \",model_test_r2)\n",
    "    \n",
    "    r2_list.append(model_test_r2)\n",
    "    print(50*'=')\n",
    "    print('\\n')"
   ]
  },
  {
   "cell_type": "code",
   "execution_count": 13,
   "id": "058bf9c2",
   "metadata": {},
   "outputs": [
    {
     "data": {
      "text/html": [
       "<div>\n",
       "<style scoped>\n",
       "    .dataframe tbody tr th:only-of-type {\n",
       "        vertical-align: middle;\n",
       "    }\n",
       "\n",
       "    .dataframe tbody tr th {\n",
       "        vertical-align: top;\n",
       "    }\n",
       "\n",
       "    .dataframe thead th {\n",
       "        text-align: right;\n",
       "    }\n",
       "</style>\n",
       "<table border=\"1\" class=\"dataframe\">\n",
       "  <thead>\n",
       "    <tr style=\"text-align: right;\">\n",
       "      <th></th>\n",
       "      <th>Model_Name</th>\n",
       "      <th>R2_Score</th>\n",
       "    </tr>\n",
       "  </thead>\n",
       "  <tbody>\n",
       "    <tr>\n",
       "      <th>2</th>\n",
       "      <td>Ridge</td>\n",
       "      <td>0.880593</td>\n",
       "    </tr>\n",
       "    <tr>\n",
       "      <th>0</th>\n",
       "      <td>Linear_Regression</td>\n",
       "      <td>0.880433</td>\n",
       "    </tr>\n",
       "    <tr>\n",
       "      <th>6</th>\n",
       "      <td>XGRegressor</td>\n",
       "      <td>0.862625</td>\n",
       "    </tr>\n",
       "    <tr>\n",
       "      <th>8</th>\n",
       "      <td>AdaBoost</td>\n",
       "      <td>0.854637</td>\n",
       "    </tr>\n",
       "    <tr>\n",
       "      <th>7</th>\n",
       "      <td>catboosting</td>\n",
       "      <td>0.851632</td>\n",
       "    </tr>\n",
       "    <tr>\n",
       "      <th>5</th>\n",
       "      <td>RandomForest</td>\n",
       "      <td>0.849085</td>\n",
       "    </tr>\n",
       "    <tr>\n",
       "      <th>1</th>\n",
       "      <td>Lasso</td>\n",
       "      <td>0.825320</td>\n",
       "    </tr>\n",
       "    <tr>\n",
       "      <th>3</th>\n",
       "      <td>K-Neighbors</td>\n",
       "      <td>0.783898</td>\n",
       "    </tr>\n",
       "    <tr>\n",
       "      <th>4</th>\n",
       "      <td>DecisionTree</td>\n",
       "      <td>0.733108</td>\n",
       "    </tr>\n",
       "  </tbody>\n",
       "</table>\n",
       "</div>"
      ],
      "text/plain": [
       "          Model_Name  R2_Score\n",
       "2              Ridge  0.880593\n",
       "0  Linear_Regression  0.880433\n",
       "6        XGRegressor  0.862625\n",
       "8           AdaBoost  0.854637\n",
       "7        catboosting  0.851632\n",
       "5       RandomForest  0.849085\n",
       "1              Lasso  0.825320\n",
       "3        K-Neighbors  0.783898\n",
       "4       DecisionTree  0.733108"
      ]
     },
     "execution_count": 13,
     "metadata": {},
     "output_type": "execute_result"
    }
   ],
   "source": [
    "pd.DataFrame(list(zip(model_list,r2_list)),columns=['Model_Name','R2_Score']).sort_values(by=['R2_Score'],ascending=False)"
   ]
  },
  {
   "cell_type": "markdown",
   "id": "f90b92be",
   "metadata": {},
   "source": [
    "## Linear Regression"
   ]
  },
  {
   "cell_type": "code",
   "execution_count": 14,
   "id": "34f4e1b5",
   "metadata": {},
   "outputs": [
    {
     "data": {
      "text/plain": [
       "0.8804332983749564"
      ]
     },
     "execution_count": 14,
     "metadata": {},
     "output_type": "execute_result"
    }
   ],
   "source": [
    "lr = LinearRegression()\n",
    "lr.fit(x_train,y_train)\n",
    "y_pred = lr.predict(x_test)\n",
    "r2_score(y_test,y_pred)"
   ]
  },
  {
   "cell_type": "markdown",
   "id": "86eb4446",
   "metadata": {},
   "source": [
    "#### Plotting y_pred and y_test"
   ]
  },
  {
   "cell_type": "code",
   "execution_count": 15,
   "id": "53882f1b",
   "metadata": {},
   "outputs": [
    {
     "data": {
      "text/plain": [
       "<matplotlib.collections.PathCollection at 0x2239c2ddbb0>"
      ]
     },
     "execution_count": 15,
     "metadata": {},
     "output_type": "execute_result"
    },
    {
     "data": {
      "image/png": "[encoded data removed]",
      "text/plain": [
       "<Figure size 640x480 with 1 Axes>"
      ]
     },
     "metadata": {},
     "output_type": "display_data"
    }
   ],
   "source": [
    "plt.scatter(y_test,y_pred)"
   ]
  },
  {
   "cell_type": "code",
   "execution_count": 16,
   "id": "68851904",
   "metadata": {},
   "outputs": [
    {
     "data": {
      "text/plain": [
       "<Axes: xlabel='math_score'>"
      ]
     },
     "execution_count": 16,
     "metadata": {},
     "output_type": "execute_result"
    },
    {
     "data": {
      "image/png": "[encoded data removed]",
      "text/plain": [
       "<Figure size 640x480 with 1 Axes>"
      ]
     },
     "metadata": {},
     "output_type": "display_data"
    }
   ],
   "source": [
    "sns.regplot(x=y_test,y=y_pred)"
   ]
  },
  {
   "cell_type": "code",
   "execution_count": null,
   "id": "b9804097",
   "metadata": {},
   "outputs": [],
   "source": []
  }
 ],
 "metadata": {
  "kernelspec": {
   "display_name": "Python 3 (ipykernel)",
   "language": "python",
   "name": "python3"
  },
  "language_info": {
   "codemirror_mode": {
    "name": "ipython",
    "version": 3
   },
   "file_extension": ".py",
   "mimetype": "text/x-python",
   "name": "python",
   "nbconvert_exporter": "python",
   "pygments_lexer": "ipython3",
   "version": "3.9.12"
  }
 },
 "nbformat": 4,
 "nbformat_minor": 5
}
